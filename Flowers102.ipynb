{
  "cells": [
    {
      "cell_type": "markdown",
      "metadata": {
        "id": "view-in-github",
        "colab_type": "text"
      },
      "source": [
        "<a href=\"https://colab.research.google.com/github/JV1ck3rs/Triple10-X-BlackCatStudios/blob/main/Flowers102.ipynb\" target=\"_parent\"><img src=\"https://colab.research.google.com/assets/colab-badge.svg\" alt=\"Open In Colab\"/></a>"
      ]
    },
    {
      "cell_type": "code",
      "execution_count": null,
      "metadata": {
        "id": "jOkLW7XKx5Ee"
      },
      "outputs": [],
      "source": [
        "import torch\n",
        "from torch import nn\n",
        "from torch.utils.data import DataLoader\n",
        "from torchvision import *\n",
        "from torchvision.transforms import ToTensor, Lambda\n",
        "import numpy as np"
      ]
    },
    {
      "cell_type": "code",
      "execution_count": null,
      "metadata": {
        "id": "M48ugHDc0y1h"
      },
      "outputs": [],
      "source": [
        "transform = transforms.Compose([\n",
        "    transforms.Resize(128), # resize the images to 128x128\n",
        "    transforms.CenterCrop(128), # crop the images to 128x128 about the center to ensure they are all the same size\n",
        "    transforms.ToTensor(), \n",
        "    transforms.Normalize([0.5, 0.5, 0.5], [0.5, 0.5, 0.5]), # normalize the images to fit the range [0.5, 1]\n",
        "])\n",
        "\n",
        "training_data = datasets.Flowers102(root = \"data\", split = 'train', \n",
        "                                    download = True, transform = transform)\n",
        "test_data = datasets.Flowers102(root = \"data\", split = 'test', download = True, transform = transform)"
      ]
    },
    {
      "cell_type": "code",
      "execution_count": null,
      "metadata": {
        "colab": {
          "base_uri": "https://localhost:8080/"
        },
        "id": "_tBqhBX79HmG",
        "outputId": "341ccd3c-d914-43df-d165-3733af9a398e"
      },
      "outputs": [
        {
          "name": "stdout",
          "output_type": "stream",
          "text": [
            "torch.Size([3, 128, 128])\n"
          ]
        }
      ],
      "source": [
        "print(test_data.__getitem__(0)[0].shape)"
      ]
    },
    {
      "cell_type": "code",
      "execution_count": null,
      "metadata": {
        "colab": {
          "base_uri": "https://localhost:8080/",
          "height": 380
        },
        "id": "UPrK-J3b7SzU",
        "outputId": "1aa53275-dc7d-47c8-fa52-b09402393c4b"
      },
      "outputs": [
        {
          "name": "stdout",
          "output_type": "stream",
          "text": [
            "<torch.utils.data.dataloader.DataLoader object at 0x00000232324EA490>\n",
            "<torch.utils.data.dataloader.DataLoader object at 0x00000232324EA8B0>\n",
            "Shape of X [N, C, H, W]: torch.Size([143, 3, 128, 128])\n",
            "Shape of y: torch.Size([143]) torch.int64\n"
          ]
        }
      ],
      "source": [
        "batch_size = 143\n",
        "\n",
        "# Create data loaders.\n",
        "train_dataloader = DataLoader(training_data, batch_size=batch_size, shuffle=True, collate_fn=None)\n",
        "test_dataloader = DataLoader(test_data, batch_size=batch_size, shuffle=True, collate_fn=None)\n",
        "print(test_dataloader)\n",
        "print(train_dataloader)\n",
        "\n",
        "for x, y in test_dataloader:\n",
        "    print(f\"Shape of X [N, C, H, W]: {x.shape}\")\n",
        "    print(f\"Shape of y: {y.shape} {y.dtype}\")\n",
        "    break"
      ]
    },
    {
      "cell_type": "code",
      "execution_count": null,
      "metadata": {
        "colab": {
          "base_uri": "https://localhost:8080/",
          "height": 356
        },
        "id": "cQrKkX8d78ao",
        "outputId": "d725c08f-b859-42eb-a011-1b08e977fa47"
      },
      "outputs": [
        {
          "ename": "FileNotFoundError",
          "evalue": "[Errno 2] No such file or directory: '../content/data/102flowers.tgz'",
          "output_type": "error",
          "traceback": [
            "\u001b[1;31m---------------------------------------------------------------------------\u001b[0m",
            "\u001b[1;31mFileNotFoundError\u001b[0m                         Traceback (most recent call last)",
            "\u001b[1;32mg:\\.shortcut-targets-by-id\\1Srghk-meziGFtU-FHt1F8RTitJQwUvJ8\\INT2 Group Assessment\\Code\\Flowers102.ipynb Cell 5\u001b[0m in \u001b[0;36m<cell line: 3>\u001b[1;34m()\u001b[0m\n\u001b[0;32m      <a href='vscode-notebook-cell:/g%3A/.shortcut-targets-by-id/1Srghk-meziGFtU-FHt1F8RTitJQwUvJ8/INT2%20Group%20Assessment/Code/Flowers102.ipynb#W4sZmlsZQ%3D%3D?line=0'>1</a>\u001b[0m image_size \u001b[39m=\u001b[39m \u001b[39m64\u001b[39m\n\u001b[0;32m      <a href='vscode-notebook-cell:/g%3A/.shortcut-targets-by-id/1Srghk-meziGFtU-FHt1F8RTitJQwUvJ8/INT2%20Group%20Assessment/Code/Flowers102.ipynb#W4sZmlsZQ%3D%3D?line=1'>2</a>\u001b[0m DATA_DIR \u001b[39m=\u001b[39m \u001b[39m'\u001b[39m\u001b[39m../content/data/102flowers.tgz\u001b[39m\u001b[39m'\u001b[39m\n\u001b[1;32m----> <a href='vscode-notebook-cell:/g%3A/.shortcut-targets-by-id/1Srghk-meziGFtU-FHt1F8RTitJQwUvJ8/INT2%20Group%20Assessment/Code/Flowers102.ipynb#W4sZmlsZQ%3D%3D?line=2'>3</a>\u001b[0m X_train \u001b[39m=\u001b[39m np\u001b[39m.\u001b[39;49mload(DATA_DIR)\n\u001b[0;32m      <a href='vscode-notebook-cell:/g%3A/.shortcut-targets-by-id/1Srghk-meziGFtU-FHt1F8RTitJQwUvJ8/INT2%20Group%20Assessment/Code/Flowers102.ipynb#W4sZmlsZQ%3D%3D?line=3'>4</a>\u001b[0m \u001b[39mprint\u001b[39m(\u001b[39mf\u001b[39m\u001b[39m\"\u001b[39m\u001b[39mShape of training data: \u001b[39m\u001b[39m{\u001b[39;00mX_train\u001b[39m.\u001b[39mshape\u001b[39m}\u001b[39;00m\u001b[39m\"\u001b[39m)\n\u001b[0;32m      <a href='vscode-notebook-cell:/g%3A/.shortcut-targets-by-id/1Srghk-meziGFtU-FHt1F8RTitJQwUvJ8/INT2%20Group%20Assessment/Code/Flowers102.ipynb#W4sZmlsZQ%3D%3D?line=4'>5</a>\u001b[0m \u001b[39mprint\u001b[39m(\u001b[39mf\u001b[39m\u001b[39m\"\u001b[39m\u001b[39mData type: \u001b[39m\u001b[39m{\u001b[39;00m\u001b[39mtype\u001b[39m(X_train)\u001b[39m}\u001b[39;00m\u001b[39m\"\u001b[39m)\n",
            "File \u001b[1;32mc:\\Users\\Jacka\\anaconda3\\lib\\site-packages\\numpy\\lib\\npyio.py:390\u001b[0m, in \u001b[0;36mload\u001b[1;34m(file, mmap_mode, allow_pickle, fix_imports, encoding)\u001b[0m\n\u001b[0;32m    388\u001b[0m     own_fid \u001b[39m=\u001b[39m \u001b[39mFalse\u001b[39;00m\n\u001b[0;32m    389\u001b[0m \u001b[39melse\u001b[39;00m:\n\u001b[1;32m--> 390\u001b[0m     fid \u001b[39m=\u001b[39m stack\u001b[39m.\u001b[39menter_context(\u001b[39mopen\u001b[39;49m(os_fspath(file), \u001b[39m\"\u001b[39;49m\u001b[39mrb\u001b[39;49m\u001b[39m\"\u001b[39;49m))\n\u001b[0;32m    391\u001b[0m     own_fid \u001b[39m=\u001b[39m \u001b[39mTrue\u001b[39;00m\n\u001b[0;32m    393\u001b[0m \u001b[39m# Code to distinguish from NumPy binary files and pickles.\u001b[39;00m\n",
            "\u001b[1;31mFileNotFoundError\u001b[0m: [Errno 2] No such file or directory: '../content/data/102flowers.tgz'"
          ]
        }
      ],
      "source": [
        "image_size = 64\n",
        "DATA_DIR = '../content/data/102flowers.tgz'\n",
        "X_train = np.load(DATA_DIR)\n",
        "print(f\"Shape of training data: {X_train.shape}\")\n",
        "print(f\"Data type: {type(X_train)}\")"
      ]
    }
  ],
  "metadata": {
    "colab": {
      "provenance": [],
      "include_colab_link": true
    },
    "kernelspec": {
      "display_name": "Python 3",
      "name": "python3"
    },
    "language_info": {
      "codemirror_mode": {
        "name": "ipython",
        "version": 3
      },
      "file_extension": ".py",
      "mimetype": "text/x-python",
      "name": "python",
      "nbconvert_exporter": "python",
      "pygments_lexer": "ipython3",
      "version": "3.8.8"
    }
  },
  "nbformat": 4,
  "nbformat_minor": 0
}